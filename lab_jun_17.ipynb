{
  "nbformat": 4,
  "nbformat_minor": 0,
  "metadata": {
    "colab": {
      "provenance": [],
      "authorship_tag": "ABX9TyPONylPDCSZDFhWhfh02T4f",
      "include_colab_link": true
    },
    "kernelspec": {
      "name": "python3",
      "display_name": "Python 3"
    },
    "language_info": {
      "name": "python"
    }
  },
  "cells": [
    {
      "cell_type": "markdown",
      "metadata": {
        "id": "view-in-github",
        "colab_type": "text"
      },
      "source": [
        "<a href=\"https://colab.research.google.com/github/tariyahm/Hack-The-Hood-Hustle/blob/main/lab_jun_17.ipynb\" target=\"_parent\"><img src=\"https://colab.research.google.com/assets/colab-badge.svg\" alt=\"Open In Colab\"/></a>"
      ]
    },
    {
      "cell_type": "markdown",
      "source": [
        "# Lab Jun. 17\n",
        "\n",
        "Intro to Pseudo Code\n",
        "\n"
      ],
      "metadata": {
        "id": "5CdHHgpqwLb9"
      }
    },
    {
      "cell_type": "markdown",
      "source": [
        "# The rules to define variables\n",
        "\n",
        "\n",
        "  1) Must start with a letter or _Underscore\n",
        "\n",
        "  2) Consists of Letters, Numbers and Underscores But it will not start with a number\n",
        "  \n",
        "  3) Variable names are case sensitive"
      ],
      "metadata": {
        "id": "XgGEa8m1xwq3"
      }
    },
    {
      "cell_type": "code",
      "source": [
        "  car = \"Mercedes\"\n",
        "  Car = \"Audi\""
      ],
      "metadata": {
        "id": "0yZEeXd10Rl4"
      },
      "execution_count": 2,
      "outputs": []
    },
    {
      "cell_type": "code",
      "source": [
        "  car"
      ],
      "metadata": {
        "colab": {
          "base_uri": "https://localhost:8080/",
          "height": 35
        },
        "id": "fk_dRoK_0dS2",
        "outputId": "37f3657b-7465-4c2c-8224-ad2a3974d4e9"
      },
      "execution_count": 5,
      "outputs": [
        {
          "output_type": "execute_result",
          "data": {
            "text/plain": [
              "'Mercedes'"
            ],
            "application/vnd.google.colaboratory.intrinsic+json": {
              "type": "string"
            }
          },
          "metadata": {},
          "execution_count": 5
        }
      ]
    },
    {
      "cell_type": "code",
      "source": [
        "print(Car)"
      ],
      "metadata": {
        "colab": {
          "base_uri": "https://localhost:8080/"
        },
        "id": "UptI1MA30itJ",
        "outputId": "45f1f913-d3bb-42d6-a78a-e4392ef04189"
      },
      "execution_count": 4,
      "outputs": [
        {
          "output_type": "stream",
          "name": "stdout",
          "text": [
            "Audi\n"
          ]
        }
      ]
    },
    {
      "cell_type": "markdown",
      "source": [
        "  ### Psuedo code for my application\n",
        "\n",
        "  I want to write a program that takes user input and prints it back to screen\n",
        "\n",
        "  `First_name` the user's first name\n",
        "\n",
        "  `Last_Name`the user's last name\n",
        "\n",
        "  `Age` the user's age\n",
        "\n",
        "  `Fav_Color` the users favorite color\n",
        "\n",
        "  `Fav_Sport` the user's favorite sport\n",
        "\n",
        "  `Fav_Team` the user's favorite team\n",
        "\n",
        "  use a 'built-in' process to take user's data.\n",
        "\n",
        "  use a 'built-in' process to display user's data.\n"
      ],
      "metadata": {
        "id": "7iHP8rsU0of-"
      }
    },
    {
      "cell_type": "code",
      "source": [
        "Code for my application"
      ],
      "metadata": {
        "id": "ne-dLSc_26Ed"
      },
      "execution_count": null,
      "outputs": []
    },
    {
      "cell_type": "code",
      "source": [
        "  First_name = 'John'\n",
        "  Last_Name = 'Connor'\n",
        "  Age = 23\n",
        "  Fav_Color = 'Gray'\n",
        "  Fav_Sport = 'Soccer'\n",
        "  Fav_Team = 'Man U'"
      ],
      "metadata": {
        "id": "ew4LXF423Acw"
      },
      "execution_count": 8,
      "outputs": []
    },
    {
      "cell_type": "code",
      "source": [
        "print(First_name)"
      ],
      "metadata": {
        "colab": {
          "base_uri": "https://localhost:8080/"
        },
        "id": "iRt08pOG3koc",
        "outputId": "67324f90-2bdc-4b16-f72c-c3c5181952f0"
      },
      "execution_count": 9,
      "outputs": [
        {
          "output_type": "stream",
          "name": "stdout",
          "text": [
            "John\n"
          ]
        }
      ]
    },
    {
      "cell_type": "code",
      "source": [
        "  First_name = input('What is your first name? ')"
      ],
      "metadata": {
        "colab": {
          "base_uri": "https://localhost:8080/"
        },
        "id": "qmuNNrWr3rXY",
        "outputId": "4e79e397-22c2-452b-c59c-17e6f955b08c"
      },
      "execution_count": 10,
      "outputs": [
        {
          "name": "stdout",
          "output_type": "stream",
          "text": [
            "What is your first name? Tom\n"
          ]
        }
      ]
    },
    {
      "cell_type": "code",
      "source": [
        "print(First_name)"
      ],
      "metadata": {
        "colab": {
          "base_uri": "https://localhost:8080/"
        },
        "id": "29joQZ4v3xc5",
        "outputId": "fc9de9de-1312-478a-d1fc-1e2537572e05"
      },
      "execution_count": 11,
      "outputs": [
        {
          "output_type": "stream",
          "name": "stdout",
          "text": [
            "Tom\n"
          ]
        }
      ]
    },
    {
      "cell_type": "code",
      "source": [
        "First_name = input('What is your first name? ')\n",
        "# In this line I am using the input method to ask the user's first name\n",
        "\n",
        "\n",
        "\n",
        "Last_Name = input('What is your last name? ')\n",
        "# In this line I am using the input method to ask the user's last name\n",
        "\n",
        "\n",
        "\n",
        "Age = input('What is your age? ')\n",
        "# In this line I am using the input method to ask the user's age\n",
        "\n",
        "\n",
        "\n",
        "Fav_Colour = input('What is your favourite colour? ')\n",
        "# In this line I am using the input method to ask the user's favorite color\n",
        "\n",
        "\n",
        "\n",
        "\n",
        "Fav_Sport = input('What is your favourite sport? ')\n",
        "# In this line I am using the input method to ask the user's favorite sport\n",
        "\n",
        "\n",
        "\n",
        "Fav_Team = input('What is your favourite team? ')\n",
        "# In this line I am using the input method to ask the user's favorite team\n",
        "\n",
        "\n"
      ],
      "metadata": {
        "colab": {
          "base_uri": "https://localhost:8080/"
        },
        "id": "O3-kHxmL31kq",
        "outputId": "8d76ab24-8d60-45e3-e22d-5b5dc1853ad1"
      },
      "execution_count": 12,
      "outputs": [
        {
          "name": "stdout",
          "output_type": "stream",
          "text": [
            "What is your first name? Harry\n",
            "What is your last name? Potter\n",
            "What is your age? 11\n",
            "What is your favourite colour? Red\n",
            "What is your favourite sport? Quidditch\n",
            "What is your favourite team? Gryffindor\n"
          ]
        }
      ]
    },
    {
      "cell_type": "code",
      "source": [
        "print(f\"User first name is, {First_name}, last name is, {Last_Name}, age is, {Age},\\\n",
        " favourite colour is, {Fav_Colour}, favourite sport is, {Fav_Sport}, favourite team is, {Fav_Team}\")\n",
        "# In this input I am creating a string and expressing what user's first name, last name, age, fave color, fave sport, and fave team is"
      ],
      "metadata": {
        "colab": {
          "base_uri": "https://localhost:8080/"
        },
        "id": "ocNMbauw4Iyf",
        "outputId": "9e574720-e370-4c55-e3eb-d2b5feb0d041"
      },
      "execution_count": 14,
      "outputs": [
        {
          "output_type": "stream",
          "name": "stdout",
          "text": [
            "User first name is, Harry, last name is, Potter, age is, 11, favourite colour is, Red, favourite sport is, Quidditch, favourite team is, Gryffindor\n"
          ]
        }
      ]
    }
  ]
}