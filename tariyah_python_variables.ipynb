{
  "nbformat": 4,
  "nbformat_minor": 0,
  "metadata": {
    "colab": {
      "provenance": [],
      "include_colab_link": true
    },
    "kernelspec": {
      "name": "python3",
      "display_name": "Python 3"
    },
    "language_info": {
      "name": "python"
    }
  },
  "cells": [
    {
      "cell_type": "markdown",
      "metadata": {
        "id": "view-in-github",
        "colab_type": "text"
      },
      "source": [
        "<a href=\"https://colab.research.google.com/github/tariyahm/Hack-The-Hood-Hustle/blob/main/tariyah_python_variables.ipynb\" target=\"_parent\"><img src=\"https://colab.research.google.com/assets/colab-badge.svg\" alt=\"Open In Colab\"/></a>"
      ]
    },
    {
      "cell_type": "code",
      "execution_count": 10,
      "metadata": {
        "colab": {
          "base_uri": "https://localhost:8080/"
        },
        "id": "46l53Aisb7y7",
        "outputId": "f7e0306c-6e49-4add-c83f-de8b9449d0b0"
      },
      "outputs": [
        {
          "output_type": "stream",
          "name": "stdout",
          "text": [
            "This is my Full name: Tariyah Morris\n",
            "nickname is: t\n",
            "age is: 19\n",
            "['editing', 'watching movies', 'journaling', 'cooking']\n"
          ]
        }
      ],
      "source": [
        "## To do lab: File > Save a copy to drive > Edit title\n",
        "\n",
        "### EXERCISE 1\n",
        "\n",
        "# Step 1: Create a Variable for Your Name\n",
        "# In your main.py file, create a variable and assign it a string\n",
        "#value that holds your first and last name.\n",
        "\n",
        "full_name = \"Tariyah Morris\"\n",
        "\n",
        "# Step 2: Create a Nickname Variable\n",
        "# Create another variable that holds your favorite nickname or preferred name.\n",
        "\n",
        "nickname = \"t\"\n",
        "\n",
        "# Step 3: Define Your Age\n",
        "# Create a variable that represents your age using a numeric data type.\n",
        "\n",
        "age = 19\n",
        "\n",
        "# Step 4: Have You Used Python Before?\n",
        "# Create a variable using the boolean data type to answer the question:\n",
        "# \"Have you used Python before?\"\n",
        "# Use True for \"yes\" or False for \"no.\"\n",
        "\n",
        "used_python_before = True\n",
        "\n",
        "# Step 5: List Your Favorite Hobbies\n",
        "# Create a variable that is a list containing your favorite hobbies.\n",
        "# eg: hobbies = [\"coding\", \"basketball\", \"reading\"]\n",
        "# Make sure to type it out, do not copy and paste\n",
        "\n",
        "hobbies = [\"editing\", \"watching movies\", \"journaling\", \"cooking\"]\n",
        "\n",
        "\n",
        "## Complete Print Statements:\n",
        "\n",
        "\n",
        "# Print the nickname, age, and used_python_before variables\n",
        "# eg: print(\"Full Name\":, full_name)\n",
        "\n",
        "print (\"This is my Full name:\", full_name)\n",
        "print (\"nickname is:\", nickname)\n",
        "print (\"age is:\", age)\n",
        "\n",
        "# Print hobbies list\n",
        "\n",
        "print(hobbies)\n",
        "\n",
        "\n",
        "\n",
        "\n",
        "\n",
        "#------------------------------------------------------------------------------#\n",
        "\n",
        "\n",
        "### EXERCISE 2\n",
        "\n",
        "# Let's pretend we are signing up for a program.\n",
        "# We need to assign the following values, and then welcome our new user.\n",
        "\n",
        "# Assign your full name\n",
        "\n",
        "\n",
        "\n",
        "# Assign your email address\n",
        "\n",
        "\n",
        "# Assign your desired username\n",
        "\n",
        "\n",
        "# Print yor email\n",
        "\n",
        "# print(\"Your email is: \" + email)\n",
        "\n",
        "\n",
        "### Now you try!\n",
        "# Print a statement that will complete this message:\n",
        "# \"Your username is ____ \"\n",
        "\n",
        "### Print a welcome message:\n",
        "# \"Welcome [insert full name here], let's start coding!\"\n",
        "\n",
        "\n"
      ]
    },
    {
      "cell_type": "code",
      "source": [],
      "metadata": {
        "id": "DlXZ7DbgeaB5"
      },
      "execution_count": null,
      "outputs": []
    }
  ]
}